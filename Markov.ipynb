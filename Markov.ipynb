{
 "cells": [
  {
   "cell_type": "code",
   "execution_count": 1,
   "metadata": {},
   "outputs": [],
   "source": [
    "import networkx as nx\n",
    "import numpy as np\n",
    "import pickle\n",
    "import time"
   ]
  },
  {
   "cell_type": "code",
   "execution_count": 6,
   "metadata": {},
   "outputs": [],
   "source": [
    "def fullprint(*args, **kwargs):\n",
    "    from pprint import pprint\n",
    "    import numpy\n",
    "    opt = numpy.get_printoptions()\n",
    "    numpy.set_printoptions(threshold=numpy.inf)\n",
    "    pprint(*args, **kwargs)\n",
    "    numpy.set_printoptions(**opt)\n",
    "\n",
    "\n",
    "class songGenerator:\n",
    "    def __init__(self, filename):\n",
    "        start_time = time.time()\n",
    "        dataframe = pickle.load( open( filename, \"rb\" ) ) #get dataframe with scraped tabs from pickle file\n",
    "        G = nx.MultiDiGraph() #initialize graph\n",
    "        nodes = [] #will hold the tuple note that corresponds with each numbered node of the graph\n",
    "        totalNotes = 0 #keeps count of how many notes are used in the graph\n",
    "        #print('Making Graph')\n",
    "        for songNum in range(0,dataframe.shape[0]): #iterate through all songs in the dataframe\n",
    "           # if songNum % 1 == 0:\n",
    "                #print('On song #',songNum)\n",
    "            if dataframe.iloc[songNum,4] == 0: #currently will only use songs with no capo\n",
    "                array = dataframe.iloc[songNum,5] #gets the TABS for the song\n",
    "                totalNotes += array.shape[1] #increments number of notes based on length of this song\n",
    "                if tuple(array[:,0]) not in G: #if the current note is not in the graph, add a corresponding node\n",
    "                    G.add_node(tuple(array[:,0]))\n",
    "                    nodes.append(tuple(array[:,0]))\n",
    "                \n",
    "                \n",
    "                \n",
    "                for i in range(1,array.shape[1]): #iterate through all notes in the song\n",
    "                    current = tuple(array[:,i]) #turn each note into a tuple (because tuples are hashable and thus can be used as identifiers for the graph nodes)\n",
    "                    prev = tuple(array[:,i-1])\n",
    "                    check = time.time()\n",
    "                    if current not in G: \n",
    "                        G.add_node(current)\n",
    "                        nodes.append(current)\n",
    "                    \n",
    "                    G.add_edge(prev,current) #adds directed edge from the previous note to the current note\n",
    "        print(\"Iterate Through Notes in Song in --- %s seconds ---\" % (time.time() - start_time))\n",
    "                #print(totalNotes)\n",
    "\n",
    "        self.graph = G\n",
    "        self.nodes = nodes\n",
    "        self.adjacency_matrix = nx.to_numpy_array(G,nodelist=nodes)\n",
    "        #print('Making Transition Matrix')\n",
    "        self.transition_matrix = np.divide(self.adjacency_matrix ,np.array([np.sum(self.adjacency_matrix,axis=1)]).T) \n",
    "    \n",
    "    def writeSongToFile(self,song,filename):\n",
    "        songList = ['-'.join(row) for row in song.T]\n",
    "        songList = [row + '\\n' for row in songList]\n",
    "        #print(songList)\n",
    "\n",
    "        file1 = open(filename, 'w')\n",
    "        file1.writelines(songList)\n",
    "        file1.close()\n",
    "        \n",
    "    def makeSong(self,length):\n",
    "        n = self.transition_matrix.shape[0]\n",
    "        X = [np.random.choice(n, p=self.transition_matrix[0,:])]  # p is a needed input for np.random.choice()\n",
    "        for t in range(1,length):\n",
    "            X.append(np.random.choice(n, p=self.transition_matrix[X[t-1],:]))\n",
    "        \n",
    "        song = np.array([self.nodes[X[0]]])\n",
    "        for i in range(1,len(X)):\n",
    "            song = np.append(song,[self.nodes[X[i]]],axis=0)\n",
    "        return song\n",
    "    \n",
    "    def makeSong(self,length,filename):\n",
    "        #print('Making Song')\n",
    "        n = self.transition_matrix.shape[0]\n",
    "        X = [np.random.choice(n, p=self.transition_matrix[0,:])]  # p is a needed input for np.random.choice()\n",
    "        for t in range(1,length):\n",
    "            X.append(np.random.choice(n, p=self.transition_matrix[X[t-1],:]))\n",
    "        \n",
    "        song = np.array([self.nodes[X[0]]])\n",
    "        for i in range(1,len(X)):\n",
    "            song = np.append(song,[self.nodes[X[i]]],axis=0)\n",
    "       # print('Writing Song to File')\n",
    "        self.writeSongToFile(song,filename)\n",
    "        \n",
    "        return song\n",
    "    \n",
    "    \n",
    "    \n",
    "        \n",
    "        \n",
    "\n",
    "        "
   ]
  },
  {
   "cell_type": "code",
   "execution_count": 7,
   "metadata": {},
   "outputs": [
    {
     "name": "stdout",
     "output_type": "stream",
     "text": [
      "Iterate Through Notes in Song in --- 1.1035120487213135 seconds ---\n",
      "Total time --- 3.167266845703125 seconds ---\n"
     ]
    },
    {
     "name": "stderr",
     "output_type": "stream",
     "text": [
      "<ipython-input-6-5949a264dc39>:46: RuntimeWarning: invalid value encountered in true_divide\n",
      "  self.transition_matrix = np.divide(self.adjacency_matrix ,np.array([np.sum(self.adjacency_matrix,axis=1)]).T)\n"
     ]
    }
   ],
   "source": [
    "start_time = time.time()\n",
    "generator = songGenerator('ScrapedSongsKeyC.p')\n",
    "print(\"Total time --- %s seconds ---\" % (time.time() - start_time))\n",
    "song = generator.makeSong(100,'Test2.txt')\n"
   ]
  },
  {
   "cell_type": "code",
   "execution_count": null,
   "metadata": {},
   "outputs": [],
   "source": [
    "test = pickle.load( open( \"ScrapedSongsKeyC.p\", \"rb\" ) )\n",
    "#test = test = pickle.load( open( \"ScrapedSongs100.p\", \"rb\" ) )\n",
    "\n",
    "array = test.iloc[0,5]\n",
    "print(array[:,0:9],'\\n')\n",
    "#print(array.T)\n",
    "print(test.shape)\n",
    "test\n"
   ]
  },
  {
   "cell_type": "code",
   "execution_count": null,
   "metadata": {},
   "outputs": [],
   "source": [
    "test_tuple = tuple(array[:,0])\n",
    "G = nx.MultiDiGraph()\n",
    "nodes = []\n",
    "G.add_node(tuple(array[:,0]))\n",
    "nodes.append(tuple(array[:,0]))\n",
    "\n",
    "for i in range(1,array.shape[1]):\n",
    "    current = tuple(array[:,i])\n",
    "    prev = tuple(array[:,i-1])\n",
    "    if current not in G: \n",
    "        G.add_node(current)\n",
    "        nodes.append(current)\n",
    "    G.add_edge(prev,current)\n",
    "#nx.draw(G,with_labels=0,node_size=20,width=.1)\n",
    "adjacency = nx.to_numpy_array(G,nodelist=nodes)\n",
    "print(nodes,'\\n')\n",
    "print(adjacency.shape)\n"
   ]
  },
  {
   "cell_type": "code",
   "execution_count": null,
   "metadata": {},
   "outputs": [],
   "source": [
    "start_time = time.time()\n",
    "G = nx.MultiDiGraph()\n",
    "nodes = []\n",
    "totalNotes = 0\n",
    "for songNum in range(0,867):\n",
    "    #print('Song #',songNum)\n",
    "    if test.iloc[songNum,4] == 0:\n",
    "#         if songNum % 10 == 0:\n",
    "#             print('On song number:',songNum)\n",
    "        array = test.iloc[songNum,5]\n",
    "        totalNotes += array.shape[1]\n",
    "        if tuple(array[:,0]) not in G:\n",
    "            G.add_node(tuple(array[:,0]))\n",
    "            nodes.append(tuple(array[:,0]))\n",
    "        \n",
    "        #start_time = time.time()\n",
    "        \n",
    "        for i in range(1,array.shape[1]):\n",
    "            current = tuple(array[:,i])\n",
    "            prev = tuple(array[:,i-1])\n",
    "            if current not in G: \n",
    "                G.add_node(current)\n",
    "                nodes.append(current)\n",
    "            G.add_edge(prev,current)\n",
    "        #print(\"Iterate Through Notes in Song in --- %s seconds ---\" % (time.time() - start_time))\n",
    "        #print(totalNotes)\n",
    "#nx.draw(G,with_labels=0,node_size = 5, width = .7)\n",
    "adjacency = nx.to_numpy_array(G,nodelist=nodes)\n",
    "adjacency.shape\n",
    "#print(totalNotes)\n",
    "print(\"Total time --- %s seconds ---\" % (time.time() - start_time))\n",
    "\n"
   ]
  },
  {
   "cell_type": "code",
   "execution_count": null,
   "metadata": {},
   "outputs": [],
   "source": [
    "import matplotlib.pyplot as plt\n",
    "\n",
    "adjacency\n",
    "#plt.imshow(adjacency)\n",
    "np.savetxt('song.txt', song)"
   ]
  },
  {
   "cell_type": "code",
   "execution_count": null,
   "metadata": {},
   "outputs": [],
   "source": [
    "# for row in adjacency:\n",
    "#     if np.sum(row) == 0:\n",
    "#         print(\"Error\")"
   ]
  },
  {
   "cell_type": "code",
   "execution_count": null,
   "metadata": {},
   "outputs": [],
   "source": [
    "#divide each element by the sum of its row to get transition probability matrix, in which each row sums to 1\n",
    "transition_matrix = np.divide(adjacency ,np.array([np.sum(adjacency,axis=1)]).T) \n",
    "#fullprint(np.sum(transition_matrix,axis=1))\n"
   ]
  },
  {
   "cell_type": "code",
   "execution_count": null,
   "metadata": {},
   "outputs": [],
   "source": [
    "n = transition_matrix.shape[0]\n",
    "X = [np.random.choice(n, p=transition_matrix[0,:])]  # p is a needed input for np.random.choice()\n",
    "for t in range(1,100):\n",
    "    X.append(np.random.choice(n, p=transition_matrix[X[t-1],:])) "
   ]
  },
  {
   "cell_type": "code",
   "execution_count": null,
   "metadata": {},
   "outputs": [],
   "source": [
    "song = np.array([nodes[X[0]]])\n",
    "for i in range(1,len(X)):\n",
    "    song = np.append(song,[nodes[X[i]]],axis=0)\n",
    "song[0:10,:].T\n"
   ]
  },
  {
   "cell_type": "code",
   "execution_count": null,
   "metadata": {},
   "outputs": [],
   "source": [
    "print(nodes[0])\n",
    "print(nodes[1])\n",
    "#for(note in X):\n",
    "np.append([nodes[0]],[nodes[1]],axis = 0).T"
   ]
  },
  {
   "cell_type": "code",
   "execution_count": null,
   "metadata": {},
   "outputs": [],
   "source": []
  },
  {
   "cell_type": "code",
   "execution_count": null,
   "metadata": {},
   "outputs": [],
   "source": [
    "\n",
    "def writeSongToFile(song,filename):\n",
    "    file1 = open('songTest.txt', 'w')\n",
    "    songList = [''.join(row) for row in song]\n",
    "    "
   ]
  },
  {
   "cell_type": "code",
   "execution_count": null,
   "metadata": {},
   "outputs": [],
   "source": [
    "# #Testing networkx graphs\n",
    "\n",
    "# G = nx.MultiDiGraph()\n",
    "# x = np.array([[1],[2],[3]])\n",
    "# x = tuple(x[:,0])\n",
    "# y = np.array([[4],[5],[6]])\n",
    "# y = tuple(y[:,0])\n",
    "# z = np.array([[7],[8],[9]])\n",
    "# z = tuple(z[:,0])\n",
    "# G.add_node(x)\n",
    "# G.add_node(y)\n",
    "# G.add_node(z)\n",
    "# G.add_edge(x,y)\n",
    "# G.add_edge(y,z)\n",
    "# G.add_edge(x,z)\n",
    "# G.add_edge(x,z)\n",
    "# print(G.edges)\n",
    "# nx.draw(G,with_labels=1)\n",
    "# A = nx.to_numpy_array(G,nodelist=[x,y,z])\n",
    "# A"
   ]
  },
  {
   "cell_type": "code",
   "execution_count": null,
   "metadata": {},
   "outputs": [],
   "source": [
    "# #Testing on numpy arrays\n",
    "\n",
    "# x = np.ones((3,3))\n",
    "# z = np.divide(x,y.T)\n",
    "# y = np.array([[1,2,3]])\n",
    "# y.T\n",
    "# z\n",
    "# x += [[1],[2],[3]]\n",
    "# print(x)\n",
    "# print(np.array([np.sum(x,axis=1)]).T)\n",
    "# np.divide(x ,np.array([np.sum(x,axis=1)]).T)\n"
   ]
  }
 ],
 "metadata": {
  "kernelspec": {
   "display_name": "Python 3",
   "language": "python",
   "name": "python3"
  },
  "language_info": {
   "codemirror_mode": {
    "name": "ipython",
    "version": 3
   },
   "file_extension": ".py",
   "mimetype": "text/x-python",
   "name": "python",
   "nbconvert_exporter": "python",
   "pygments_lexer": "ipython3",
   "version": "3.8.3"
  }
 },
 "nbformat": 4,
 "nbformat_minor": 4
}
